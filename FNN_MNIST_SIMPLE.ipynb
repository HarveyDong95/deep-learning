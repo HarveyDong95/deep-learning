{
 "cells": [
  {
   "cell_type": "code",
   "execution_count": 1,
   "metadata": {},
   "outputs": [],
   "source": [
    "import tensorflow as tf\n",
    "import matplotlib.pyplot as plt\n",
    "mnist = tf.keras.datasets.mnist\n",
    "(x_train, y_train),(x_test, y_test) = mnist.load_data()\n",
    "%matplotlib inline"
   ]
  },
  {
   "cell_type": "code",
   "execution_count": 2,
   "metadata": {},
   "outputs": [
    {
     "name": "stdout",
     "output_type": "stream",
     "text": [
      "Train on 60000 samples, validate on 10000 samples\n",
      "Epoch 1/20\n",
      "60000/60000 [==============================] - 5s 86us/step - loss: 0.3050 - acc: 0.9119 - val_loss: 0.1390 - val_acc: 0.9586\n",
      "Epoch 2/20\n",
      "60000/60000 [==============================] - 5s 79us/step - loss: 0.1442 - acc: 0.9575 - val_loss: 0.1027 - val_acc: 0.9692\n",
      "Epoch 3/20\n",
      "60000/60000 [==============================] - 5s 80us/step - loss: 0.1095 - acc: 0.9668 - val_loss: 0.0814 - val_acc: 0.9755\n",
      "Epoch 4/20\n",
      "60000/60000 [==============================] - 5s 79us/step - loss: 0.0874 - acc: 0.9727 - val_loss: 0.0805 - val_acc: 0.9749\n",
      "Epoch 5/20\n",
      "60000/60000 [==============================] - 4s 75us/step - loss: 0.0742 - acc: 0.9766 - val_loss: 0.0731 - val_acc: 0.9780\n",
      "Epoch 6/20\n",
      "60000/60000 [==============================] - 5s 75us/step - loss: 0.0659 - acc: 0.9786 - val_loss: 0.0725 - val_acc: 0.9786\n",
      "Epoch 7/20\n",
      "60000/60000 [==============================] - 4s 75us/step - loss: 0.0591 - acc: 0.9811 - val_loss: 0.0679 - val_acc: 0.9803\n",
      "Epoch 8/20\n",
      "60000/60000 [==============================] - 5s 75us/step - loss: 0.0530 - acc: 0.9825 - val_loss: 0.0728 - val_acc: 0.9786\n",
      "Epoch 9/20\n",
      "60000/60000 [==============================] - 5s 76us/step - loss: 0.0503 - acc: 0.9831 - val_loss: 0.0719 - val_acc: 0.9792\n",
      "Epoch 10/20\n",
      "60000/60000 [==============================] - 5s 76us/step - loss: 0.0439 - acc: 0.9852 - val_loss: 0.0704 - val_acc: 0.9811\n",
      "Epoch 11/20\n",
      "60000/60000 [==============================] - 5s 75us/step - loss: 0.0421 - acc: 0.9859 - val_loss: 0.0689 - val_acc: 0.9801\n",
      "Epoch 12/20\n",
      "60000/60000 [==============================] - 5s 76us/step - loss: 0.0403 - acc: 0.9860 - val_loss: 0.0733 - val_acc: 0.9802\n",
      "Epoch 13/20\n",
      "60000/60000 [==============================] - 5s 75us/step - loss: 0.0385 - acc: 0.9866 - val_loss: 0.0720 - val_acc: 0.9801\n",
      "Epoch 14/20\n",
      "60000/60000 [==============================] - 5s 79us/step - loss: 0.0338 - acc: 0.9883 - val_loss: 0.0679 - val_acc: 0.9806\n",
      "Epoch 15/20\n",
      "60000/60000 [==============================] - 5s 82us/step - loss: 0.0320 - acc: 0.9891 - val_loss: 0.0769 - val_acc: 0.9792\n",
      "Epoch 16/20\n",
      "60000/60000 [==============================] - 5s 87us/step - loss: 0.0309 - acc: 0.9898 - val_loss: 0.0791 - val_acc: 0.9798\n",
      "Epoch 17/20\n",
      "60000/60000 [==============================] - 5s 91us/step - loss: 0.0295 - acc: 0.9898 - val_loss: 0.0776 - val_acc: 0.9801\n",
      "Epoch 18/20\n",
      "60000/60000 [==============================] - 7s 110us/step - loss: 0.0275 - acc: 0.9912 - val_loss: 0.0807 - val_acc: 0.9800\n",
      "Epoch 19/20\n",
      "60000/60000 [==============================] - 6s 95us/step - loss: 0.0277 - acc: 0.9906 - val_loss: 0.0768 - val_acc: 0.9802\n",
      "Epoch 20/20\n",
      "60000/60000 [==============================] - 5s 84us/step - loss: 0.0278 - acc: 0.9908 - val_loss: 0.0742 - val_acc: 0.9800\n",
      "10000/10000 [==============================] - 0s 26us/step\n"
     ]
    },
    {
     "data": {
      "text/plain": [
       "[0.07419639900816546, 0.98]"
      ]
     },
     "execution_count": 2,
     "metadata": {},
     "output_type": "execute_result"
    }
   ],
   "source": [
    "x_train, x_test = x_train / 255.0, x_test / 255.0\n",
    "\n",
    "model = tf.keras.models.Sequential([\n",
    "  tf.keras.layers.Flatten(input_shape=(28, 28)),\n",
    "  tf.keras.layers.Dense(128, activation='relu'),\n",
    "  tf.keras.layers.Dropout(0.2),\n",
    "  tf.keras.layers.Dense(10, activation='softmax')\n",
    "])\n",
    "\n",
    "model.compile(optimizer='adam',\n",
    "              loss='sparse_categorical_crossentropy',\n",
    "              metrics=['accuracy'])\n",
    "\n",
    "history = model.fit(x_train, y_train, epochs=20, verbose=1, validation_data=(x_test, y_test))\n",
    "model.evaluate(x_test, y_test)"
   ]
  },
  {
   "cell_type": "code",
   "execution_count": 3,
   "metadata": {},
   "outputs": [
    {
     "data": {
      "text/plain": [
       "{'acc': [0.9118833333333334,\n",
       "  0.9574666666666667,\n",
       "  0.96685,\n",
       "  0.9727333333333333,\n",
       "  0.9765833333333334,\n",
       "  0.9786,\n",
       "  0.9810833333333333,\n",
       "  0.9824666666666667,\n",
       "  0.9830833333333333,\n",
       "  0.9852166666666666,\n",
       "  0.9858833333333333,\n",
       "  0.9859666666666667,\n",
       "  0.98655,\n",
       "  0.98825,\n",
       "  0.9890666666666666,\n",
       "  0.9898333333333333,\n",
       "  0.9898166666666667,\n",
       "  0.99125,\n",
       "  0.9905666666666667,\n",
       "  0.9908],\n",
       " 'loss': [0.30495440851151945,\n",
       "  0.1441663324487706,\n",
       "  0.10946034172872703,\n",
       "  0.08738216786881288,\n",
       "  0.07416024268008768,\n",
       "  0.06587791821639985,\n",
       "  0.059097941639010484,\n",
       "  0.05298036614293233,\n",
       "  0.05030089458032356,\n",
       "  0.0438814886617319,\n",
       "  0.04210522643421039,\n",
       "  0.040287575114999585,\n",
       "  0.03851388652748816,\n",
       "  0.03380248243062136,\n",
       "  0.031960778370974004,\n",
       "  0.030914323880597172,\n",
       "  0.029534674433079392,\n",
       "  0.027483673127247796,\n",
       "  0.027715486271785144,\n",
       "  0.027789526827827406],\n",
       " 'val_acc': [0.9586,\n",
       "  0.9692,\n",
       "  0.9755,\n",
       "  0.9749,\n",
       "  0.978,\n",
       "  0.9786,\n",
       "  0.9803,\n",
       "  0.9786,\n",
       "  0.9792,\n",
       "  0.9811,\n",
       "  0.9801,\n",
       "  0.9802,\n",
       "  0.9801,\n",
       "  0.9806,\n",
       "  0.9792,\n",
       "  0.9798,\n",
       "  0.9801,\n",
       "  0.98,\n",
       "  0.9802,\n",
       "  0.98],\n",
       " 'val_loss': [0.13896329042762517,\n",
       "  0.10274581837812438,\n",
       "  0.08141072865528985,\n",
       "  0.08048804513458163,\n",
       "  0.07309296325067989,\n",
       "  0.07253757714473177,\n",
       "  0.06786688891854137,\n",
       "  0.07277161538428627,\n",
       "  0.07191155792333302,\n",
       "  0.07035411345995089,\n",
       "  0.06887924787701195,\n",
       "  0.07331731292672193,\n",
       "  0.07203846982171526,\n",
       "  0.06791348444520845,\n",
       "  0.0768794121741681,\n",
       "  0.07906070656798402,\n",
       "  0.07763139173382223,\n",
       "  0.08068812377585419,\n",
       "  0.07680227442699397,\n",
       "  0.07419639900816546]}"
      ]
     },
     "execution_count": 3,
     "metadata": {},
     "output_type": "execute_result"
    }
   ],
   "source": [
    "history.history"
   ]
  },
  {
   "cell_type": "code",
   "execution_count": 4,
   "metadata": {},
   "outputs": [
    {
     "data": {
      "text/plain": [
       "<matplotlib.legend.Legend at 0x2872fef0940>"
      ]
     },
     "execution_count": 4,
     "metadata": {},
     "output_type": "execute_result"
    },
    {
     "data": {
      "image/png": "[encoded data removed]",
      "text/plain": [
       "<Figure size 432x288 with 1 Axes>"
      ]
     },
     "metadata": {
      "needs_background": "light"
     },
     "output_type": "display_data"
    }
   ],
   "source": [
    "plt.plot(history.history['loss'],label = 'train_loss')\n",
    "plt.plot(history.history['val_loss'],label = 'test_loss')\n",
    "plt.grid(True)\n",
    "plt.xlabel('iterations')\n",
    "plt.ylabel('loss')\n",
    "plt.legend(loc='best')"
   ]
  },
  {
   "cell_type": "code",
   "execution_count": 5,
   "metadata": {},
   "outputs": [],
   "source": [
    "## Reference\n",
    "# https://www.tensorflow.org/overview"
   ]
  }
 ],
 "metadata": {
  "kernelspec": {
   "display_name": "Python 3",
   "language": "python",
   "name": "python3"
  },
  "language_info": {
   "codemirror_mode": {
    "name": "ipython",
    "version": 3
   },
   "file_extension": ".py",
   "mimetype": "text/x-python",
   "name": "python",
   "nbconvert_exporter": "python",
   "pygments_lexer": "ipython3",
   "version": "3.5.6"
  }
 },
 "nbformat": 4,
 "nbformat_minor": 2
}
