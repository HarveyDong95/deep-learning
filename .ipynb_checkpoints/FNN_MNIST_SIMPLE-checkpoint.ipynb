{
 "cells": [
  {
   "cell_type": "code",
   "execution_count": 26,
   "metadata": {},
   "outputs": [],
   "source": [
    "import tensorflow as tf\n",
    "import matplotlib.pyplot as plt\n",
    "mnist = tf.keras.datasets.mnist\n",
    "(x_train, y_train),(x_test, y_test) = mnist.load_data()\n",
    "%matplotlib inline"
   ]
  },
  {
   "cell_type": "code",
   "execution_count": 27,
   "metadata": {},
   "outputs": [
    {
     "name": "stdout",
     "output_type": "stream",
     "text": [
      "Train on 60000 samples, validate on 10000 samples\n",
      "Epoch 1/20\n",
      "60000/60000 [==============================] - 5s 89us/step - loss: 0.2933 - acc: 0.9142 - val_loss: 0.1344 - val_acc: 0.9590\n",
      "Epoch 2/20\n",
      "60000/60000 [==============================] - 5s 81us/step - loss: 0.1433 - acc: 0.9584 - val_loss: 0.1008 - val_acc: 0.9696\n",
      "Epoch 3/20\n",
      "60000/60000 [==============================] - 5s 78us/step - loss: 0.1093 - acc: 0.9673 - val_loss: 0.0876 - val_acc: 0.9731\n",
      "Epoch 4/20\n",
      "60000/60000 [==============================] - 5s 81us/step - loss: 0.0874 - acc: 0.9731 - val_loss: 0.0825 - val_acc: 0.9742\n",
      "Epoch 5/20\n",
      "60000/60000 [==============================] - 6s 94us/step - loss: 0.0748 - acc: 0.9762 - val_loss: 0.0749 - val_acc: 0.9770\n",
      "Epoch 6/20\n",
      "60000/60000 [==============================] - 5s 82us/step - loss: 0.0652 - acc: 0.9788 - val_loss: 0.0742 - val_acc: 0.9770\n",
      "Epoch 7/20\n",
      "60000/60000 [==============================] - 5s 87us/step - loss: 0.0579 - acc: 0.9811 - val_loss: 0.0800 - val_acc: 0.9762\n",
      "Epoch 8/20\n",
      "60000/60000 [==============================] - 5s 88us/step - loss: 0.0526 - acc: 0.9828 - val_loss: 0.0727 - val_acc: 0.9790\n",
      "Epoch 9/20\n",
      "60000/60000 [==============================] - 5s 80us/step - loss: 0.0503 - acc: 0.9838 - val_loss: 0.0708 - val_acc: 0.9801\n",
      "Epoch 10/20\n",
      "60000/60000 [==============================] - 5s 86us/step - loss: 0.0448 - acc: 0.9852 - val_loss: 0.0681 - val_acc: 0.9798\n",
      "Epoch 11/20\n",
      "60000/60000 [==============================] - 5s 81us/step - loss: 0.0417 - acc: 0.9858 - val_loss: 0.0802 - val_acc: 0.9767\n",
      "Epoch 12/20\n",
      "60000/60000 [==============================] - 5s 84us/step - loss: 0.0360 - acc: 0.9878 - val_loss: 0.0700 - val_acc: 0.9802\n",
      "Epoch 13/20\n",
      "60000/60000 [==============================] - 5s 77us/step - loss: 0.0355 - acc: 0.9881 - val_loss: 0.0728 - val_acc: 0.9804\n",
      "Epoch 14/20\n",
      "60000/60000 [==============================] - 6s 95us/step - loss: 0.0318 - acc: 0.9891 - val_loss: 0.0746 - val_acc: 0.9781\n",
      "Epoch 15/20\n",
      "60000/60000 [==============================] - 6s 93us/step - loss: 0.0310 - acc: 0.9895 - val_loss: 0.0772 - val_acc: 0.9794\n",
      "Epoch 16/20\n",
      "60000/60000 [==============================] - 5s 84us/step - loss: 0.0313 - acc: 0.9892 - val_loss: 0.0730 - val_acc: 0.9811\n",
      "Epoch 17/20\n",
      "60000/60000 [==============================] - 5s 86us/step - loss: 0.0279 - acc: 0.9907 - val_loss: 0.0818 - val_acc: 0.9797\n",
      "Epoch 18/20\n",
      "60000/60000 [==============================] - 5s 90us/step - loss: 0.0294 - acc: 0.9901 - val_loss: 0.0796 - val_acc: 0.9807\n",
      "Epoch 19/20\n",
      "60000/60000 [==============================] - 5s 83us/step - loss: 0.0273 - acc: 0.9906 - val_loss: 0.0764 - val_acc: 0.9803\n",
      "Epoch 20/20\n",
      "60000/60000 [==============================] - 5s 83us/step - loss: 0.0252 - acc: 0.9917 - val_loss: 0.0778 - val_acc: 0.9808\n",
      "10000/10000 [==============================] - 0s 25us/step\n"
     ]
    },
    {
     "data": {
      "text/plain": [
       "[0.07784688202917095, 0.9808]"
      ]
     },
     "execution_count": 27,
     "metadata": {},
     "output_type": "execute_result"
    }
   ],
   "source": [
    "x_train, x_test = x_train / 255.0, x_test / 255.0\n",
    "\n",
    "model = tf.keras.models.Sequential([\n",
    "  tf.keras.layers.Flatten(input_shape=(28, 28)),\n",
    "  tf.keras.layers.Dense(128, activation='relu'),\n",
    "  tf.keras.layers.Dropout(0.2),\n",
    "  tf.keras.layers.Dense(10, activation='softmax')\n",
    "])\n",
    "\n",
    "model.compile(optimizer='adam',\n",
    "              loss='sparse_categorical_crossentropy',\n",
    "              metrics=['accuracy'])\n",
    "\n",
    "history = model.fit(x_train, y_train, epochs=20, verbose=1, validation_data=(x_test, y_test))\n",
    "model.evaluate(x_test, y_test)"
   ]
  },
  {
   "cell_type": "code",
   "execution_count": 28,
   "metadata": {},
   "outputs": [
    {
     "data": {
      "text/plain": [
       "{'acc': [0.9142333333333333,\n",
       "  0.95835,\n",
       "  0.9672833333333334,\n",
       "  0.9731333333333333,\n",
       "  0.9762166666666666,\n",
       "  0.9788333333333333,\n",
       "  0.9811166666666666,\n",
       "  0.9828166666666667,\n",
       "  0.98375,\n",
       "  0.9852333333333333,\n",
       "  0.9858,\n",
       "  0.9877833333333333,\n",
       "  0.98815,\n",
       "  0.9891333333333333,\n",
       "  0.9894833333333334,\n",
       "  0.9892,\n",
       "  0.9906833333333334,\n",
       "  0.9900666666666667,\n",
       "  0.9906333333333334,\n",
       "  0.9916833333333334],\n",
       " 'loss': [0.2932883714194099,\n",
       "  0.1433443827778101,\n",
       "  0.10934756682527562,\n",
       "  0.08740844554590682,\n",
       "  0.07479974024742841,\n",
       "  0.06517344593604406,\n",
       "  0.05790582258400197,\n",
       "  0.05259341030257444,\n",
       "  0.05034569966805478,\n",
       "  0.044764521644101475,\n",
       "  0.04168427720731124,\n",
       "  0.03597932564942166,\n",
       "  0.03546492018330221,\n",
       "  0.03181961482814513,\n",
       "  0.03096047383948462,\n",
       "  0.03133358398689889,\n",
       "  0.027904147022830634,\n",
       "  0.029393948669720945,\n",
       "  0.027302089812157405,\n",
       "  0.02521572336324995],\n",
       " 'val_acc': [0.959,\n",
       "  0.9696,\n",
       "  0.9731,\n",
       "  0.9742,\n",
       "  0.977,\n",
       "  0.977,\n",
       "  0.9762,\n",
       "  0.979,\n",
       "  0.9801,\n",
       "  0.9798,\n",
       "  0.9767,\n",
       "  0.9802,\n",
       "  0.9804,\n",
       "  0.9781,\n",
       "  0.9794,\n",
       "  0.9811,\n",
       "  0.9797,\n",
       "  0.9807,\n",
       "  0.9803,\n",
       "  0.9808],\n",
       " 'val_loss': [0.13439775718823074,\n",
       "  0.10078657057210803,\n",
       "  0.08764233729317784,\n",
       "  0.08253786282269285,\n",
       "  0.07486482487283647,\n",
       "  0.07422040255905595,\n",
       "  0.079961129663256,\n",
       "  0.07273757959629874,\n",
       "  0.07082970568489982,\n",
       "  0.06809606168926112,\n",
       "  0.08016407459054607,\n",
       "  0.0700306956757573,\n",
       "  0.07284424620701466,\n",
       "  0.0745594498765684,\n",
       "  0.07724015695207345,\n",
       "  0.07296695789037404,\n",
       "  0.08180954184034199,\n",
       "  0.07964689116400259,\n",
       "  0.07635586463585059,\n",
       "  0.07784688202917095]}"
      ]
     },
     "execution_count": 28,
     "metadata": {},
     "output_type": "execute_result"
    }
   ],
   "source": [
    "history.history"
   ]
  },
  {
   "cell_type": "code",
   "execution_count": 29,
   "metadata": {},
   "outputs": [
    {
     "data": {
      "text/plain": [
       "<matplotlib.legend.Legend at 0x244099371d0>"
      ]
     },
     "execution_count": 29,
     "metadata": {},
     "output_type": "execute_result"
    },
    {
     "data": {
      "image/png": "[encoded data removed]",
      "text/plain": [
       "<Figure size 432x288 with 1 Axes>"
      ]
     },
     "metadata": {
      "needs_background": "light"
     },
     "output_type": "display_data"
    }
   ],
   "source": [
    "plt.plot(history.history['loss'],label = 'train_loss')\n",
    "plt.plot(history.history['val_loss'],label = 'test_loss')\n",
    "plt.grid(True)\n",
    "plt.xlabel('iterations')\n",
    "plt.ylabel('loss')\n",
    "plt.legend(loc='best')"
   ]
  },
  {
   "cell_type": "code",
   "execution_count": null,
   "metadata": {},
   "outputs": [],
   "source": [
    "## Reference\n",
    "# https://www.tensorflow.org/overview"
   ]
  }
 ],
 "metadata": {
  "kernelspec": {
   "display_name": "Python 3",
   "language": "python",
   "name": "python3"
  },
  "language_info": {
   "codemirror_mode": {
    "name": "ipython",
    "version": 3
   },
   "file_extension": ".py",
   "mimetype": "text/x-python",
   "name": "python",
   "nbconvert_exporter": "python",
   "pygments_lexer": "ipython3",
   "version": "3.5.6"
  }
 },
 "nbformat": 4,
 "nbformat_minor": 2
}
